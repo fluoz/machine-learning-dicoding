{
  "nbformat": 4,
  "nbformat_minor": 0,
  "metadata": {
    "colab": {
      "provenance": [],
      "collapsed_sections": []
    },
    "kernelspec": {
      "name": "python3",
      "display_name": "Python 3"
    },
    "language_info": {
      "name": "python"
    }
  },
  "cells": [
    {
      "cell_type": "code",
      "execution_count": 28,
      "metadata": {
        "id": "HPtaciZ9hJdd"
      },
      "outputs": [],
      "source": [
        "import tensorflow as tf\n",
        "from tensorflow.keras.optimizers import RMSprop\n",
        "import matplotlib.pyplot as plt"
      ]
    },
    {
      "cell_type": "code",
      "source": [
        "from google.colab import files\n",
        "files.upload()"
      ],
      "metadata": {
        "colab": {
          "base_uri": "https://localhost:8080/",
          "height": 90
        },
        "id": "hftvtc4_oGP9",
        "outputId": "05046587-7bb4-425c-c010-87a6d622025e"
      },
      "execution_count": 2,
      "outputs": [
        {
          "output_type": "display_data",
          "data": {
            "text/plain": [
              "<IPython.core.display.HTML object>"
            ],
            "text/html": [
              "\n",
              "     <input type=\"file\" id=\"files-ada9fed2-5b95-49bf-bf5e-955c4ac45621\" name=\"files[]\" multiple disabled\n",
              "        style=\"border:none\" />\n",
              "     <output id=\"result-ada9fed2-5b95-49bf-bf5e-955c4ac45621\">\n",
              "      Upload widget is only available when the cell has been executed in the\n",
              "      current browser session. Please rerun this cell to enable.\n",
              "      </output>\n",
              "      <script>// Copyright 2017 Google LLC\n",
              "//\n",
              "// Licensed under the Apache License, Version 2.0 (the \"License\");\n",
              "// you may not use this file except in compliance with the License.\n",
              "// You may obtain a copy of the License at\n",
              "//\n",
              "//      http://www.apache.org/licenses/LICENSE-2.0\n",
              "//\n",
              "// Unless required by applicable law or agreed to in writing, software\n",
              "// distributed under the License is distributed on an \"AS IS\" BASIS,\n",
              "// WITHOUT WARRANTIES OR CONDITIONS OF ANY KIND, either express or implied.\n",
              "// See the License for the specific language governing permissions and\n",
              "// limitations under the License.\n",
              "\n",
              "/**\n",
              " * @fileoverview Helpers for google.colab Python module.\n",
              " */\n",
              "(function(scope) {\n",
              "function span(text, styleAttributes = {}) {\n",
              "  const element = document.createElement('span');\n",
              "  element.textContent = text;\n",
              "  for (const key of Object.keys(styleAttributes)) {\n",
              "    element.style[key] = styleAttributes[key];\n",
              "  }\n",
              "  return element;\n",
              "}\n",
              "\n",
              "// Max number of bytes which will be uploaded at a time.\n",
              "const MAX_PAYLOAD_SIZE = 100 * 1024;\n",
              "\n",
              "function _uploadFiles(inputId, outputId) {\n",
              "  const steps = uploadFilesStep(inputId, outputId);\n",
              "  const outputElement = document.getElementById(outputId);\n",
              "  // Cache steps on the outputElement to make it available for the next call\n",
              "  // to uploadFilesContinue from Python.\n",
              "  outputElement.steps = steps;\n",
              "\n",
              "  return _uploadFilesContinue(outputId);\n",
              "}\n",
              "\n",
              "// This is roughly an async generator (not supported in the browser yet),\n",
              "// where there are multiple asynchronous steps and the Python side is going\n",
              "// to poll for completion of each step.\n",
              "// This uses a Promise to block the python side on completion of each step,\n",
              "// then passes the result of the previous step as the input to the next step.\n",
              "function _uploadFilesContinue(outputId) {\n",
              "  const outputElement = document.getElementById(outputId);\n",
              "  const steps = outputElement.steps;\n",
              "\n",
              "  const next = steps.next(outputElement.lastPromiseValue);\n",
              "  return Promise.resolve(next.value.promise).then((value) => {\n",
              "    // Cache the last promise value to make it available to the next\n",
              "    // step of the generator.\n",
              "    outputElement.lastPromiseValue = value;\n",
              "    return next.value.response;\n",
              "  });\n",
              "}\n",
              "\n",
              "/**\n",
              " * Generator function which is called between each async step of the upload\n",
              " * process.\n",
              " * @param {string} inputId Element ID of the input file picker element.\n",
              " * @param {string} outputId Element ID of the output display.\n",
              " * @return {!Iterable<!Object>} Iterable of next steps.\n",
              " */\n",
              "function* uploadFilesStep(inputId, outputId) {\n",
              "  const inputElement = document.getElementById(inputId);\n",
              "  inputElement.disabled = false;\n",
              "\n",
              "  const outputElement = document.getElementById(outputId);\n",
              "  outputElement.innerHTML = '';\n",
              "\n",
              "  const pickedPromise = new Promise((resolve) => {\n",
              "    inputElement.addEventListener('change', (e) => {\n",
              "      resolve(e.target.files);\n",
              "    });\n",
              "  });\n",
              "\n",
              "  const cancel = document.createElement('button');\n",
              "  inputElement.parentElement.appendChild(cancel);\n",
              "  cancel.textContent = 'Cancel upload';\n",
              "  const cancelPromise = new Promise((resolve) => {\n",
              "    cancel.onclick = () => {\n",
              "      resolve(null);\n",
              "    };\n",
              "  });\n",
              "\n",
              "  // Wait for the user to pick the files.\n",
              "  const files = yield {\n",
              "    promise: Promise.race([pickedPromise, cancelPromise]),\n",
              "    response: {\n",
              "      action: 'starting',\n",
              "    }\n",
              "  };\n",
              "\n",
              "  cancel.remove();\n",
              "\n",
              "  // Disable the input element since further picks are not allowed.\n",
              "  inputElement.disabled = true;\n",
              "\n",
              "  if (!files) {\n",
              "    return {\n",
              "      response: {\n",
              "        action: 'complete',\n",
              "      }\n",
              "    };\n",
              "  }\n",
              "\n",
              "  for (const file of files) {\n",
              "    const li = document.createElement('li');\n",
              "    li.append(span(file.name, {fontWeight: 'bold'}));\n",
              "    li.append(span(\n",
              "        `(${file.type || 'n/a'}) - ${file.size} bytes, ` +\n",
              "        `last modified: ${\n",
              "            file.lastModifiedDate ? file.lastModifiedDate.toLocaleDateString() :\n",
              "                                    'n/a'} - `));\n",
              "    const percent = span('0% done');\n",
              "    li.appendChild(percent);\n",
              "\n",
              "    outputElement.appendChild(li);\n",
              "\n",
              "    const fileDataPromise = new Promise((resolve) => {\n",
              "      const reader = new FileReader();\n",
              "      reader.onload = (e) => {\n",
              "        resolve(e.target.result);\n",
              "      };\n",
              "      reader.readAsArrayBuffer(file);\n",
              "    });\n",
              "    // Wait for the data to be ready.\n",
              "    let fileData = yield {\n",
              "      promise: fileDataPromise,\n",
              "      response: {\n",
              "        action: 'continue',\n",
              "      }\n",
              "    };\n",
              "\n",
              "    // Use a chunked sending to avoid message size limits. See b/62115660.\n",
              "    let position = 0;\n",
              "    do {\n",
              "      const length = Math.min(fileData.byteLength - position, MAX_PAYLOAD_SIZE);\n",
              "      const chunk = new Uint8Array(fileData, position, length);\n",
              "      position += length;\n",
              "\n",
              "      const base64 = btoa(String.fromCharCode.apply(null, chunk));\n",
              "      yield {\n",
              "        response: {\n",
              "          action: 'append',\n",
              "          file: file.name,\n",
              "          data: base64,\n",
              "        },\n",
              "      };\n",
              "\n",
              "      let percentDone = fileData.byteLength === 0 ?\n",
              "          100 :\n",
              "          Math.round((position / fileData.byteLength) * 100);\n",
              "      percent.textContent = `${percentDone}% done`;\n",
              "\n",
              "    } while (position < fileData.byteLength);\n",
              "  }\n",
              "\n",
              "  // All done.\n",
              "  yield {\n",
              "    response: {\n",
              "      action: 'complete',\n",
              "    }\n",
              "  };\n",
              "}\n",
              "\n",
              "scope.google = scope.google || {};\n",
              "scope.google.colab = scope.google.colab || {};\n",
              "scope.google.colab._files = {\n",
              "  _uploadFiles,\n",
              "  _uploadFilesContinue,\n",
              "};\n",
              "})(self);\n",
              "</script> "
            ]
          },
          "metadata": {}
        },
        {
          "output_type": "stream",
          "name": "stdout",
          "text": [
            "Saving kaggle.json to kaggle.json\n"
          ]
        },
        {
          "output_type": "execute_result",
          "data": {
            "text/plain": [
              "{'kaggle.json': b'{\"username\":\"fluoz1\",\"key\":\"7dc2f17055ded1684f8c5b34fc08a522\"}'}"
            ]
          },
          "metadata": {},
          "execution_count": 2
        }
      ]
    },
    {
      "cell_type": "code",
      "source": [
        "!mkdir -p ~/.kaggle\n",
        "!cp kaggle.json ~/.kaggle/\n",
        "!chmod 600 ~/.kaggle/kaggle.json\n",
        "!ls ~/.kaggle"
      ],
      "metadata": {
        "colab": {
          "base_uri": "https://localhost:8080/"
        },
        "id": "alrfV6-poEjv",
        "outputId": "2471a39b-ed06-49b0-f1c7-ce1fbce0ac59"
      },
      "execution_count": 3,
      "outputs": [
        {
          "output_type": "stream",
          "name": "stdout",
          "text": [
            "kaggle.json\n"
          ]
        }
      ]
    },
    {
      "cell_type": "code",
      "source": [
        "!kaggle datasets download -d zarkonium/synthetic-image-dataset-cats-dogs-bikes-cars"
      ],
      "metadata": {
        "colab": {
          "base_uri": "https://localhost:8080/"
        },
        "id": "hafTIv7OppEL",
        "outputId": "5697eaf3-d92c-4d24-e615-cb9e9cf46ca5"
      },
      "execution_count": 4,
      "outputs": [
        {
          "output_type": "stream",
          "name": "stdout",
          "text": [
            "Downloading synthetic-image-dataset-cats-dogs-bikes-cars.zip to /content\n",
            " 98% 316M/321M [00:04<00:00, 95.8MB/s]\n",
            "100% 321M/321M [00:04<00:00, 70.3MB/s]\n"
          ]
        }
      ]
    },
    {
      "cell_type": "code",
      "source": [
        "!mkdir dataset\n",
        "!unzip -qq synthetic-image-dataset-cats-dogs-bikes-cars.zip -d dataset\n",
        "!ls dataset"
      ],
      "metadata": {
        "colab": {
          "base_uri": "https://localhost:8080/"
        },
        "id": "LzQL_Oh9ptaM",
        "outputId": "dcf23478-22f9-4e32-f7ca-5c18c31c1be4"
      },
      "execution_count": 5,
      "outputs": [
        {
          "output_type": "stream",
          "name": "stdout",
          "text": [
            "bikes  cars  cats  dogs\n"
          ]
        }
      ]
    },
    {
      "cell_type": "code",
      "source": [
        "import os\n",
        "\n",
        "dataset = os.path.basename('dataset')"
      ],
      "metadata": {
        "id": "1YbTOzznAXYJ"
      },
      "execution_count": 6,
      "outputs": []
    },
    {
      "cell_type": "code",
      "source": [
        "from tensorflow.keras.preprocessing.image import ImageDataGenerator\n",
        " \n",
        "train_datagen = ImageDataGenerator(\n",
        "                    rescale=1./255,\n",
        "                    rotation_range=20,\n",
        "                    horizontal_flip=True,\n",
        "                    shear_range = 0.2,\n",
        "                    fill_mode = 'nearest',\n",
        "                    validation_split=0.2\n",
        "                    )\n",
        " \n",
        "test_datagen = ImageDataGenerator(\n",
        "                    rescale=1./255,\n",
        "                    rotation_range=20,\n",
        "                    horizontal_flip=True,\n",
        "                    shear_range = 0.2,\n",
        "                    fill_mode = 'nearest',\n",
        "                    validation_split=0.2)"
      ],
      "metadata": {
        "id": "nS4Qrs5R6rZ7"
      },
      "execution_count": 7,
      "outputs": []
    },
    {
      "cell_type": "code",
      "source": [
        "train_generator = train_datagen.flow_from_directory(\n",
        "        dataset, \n",
        "        target_size=(150, 150),  # mengubah resolusi seluruh gambar menjadi 150x150 piksel\n",
        "        subset='training',\n",
        "        batch_size = 48,\n",
        "        shuffle = True,\n",
        "        class_mode='categorical')\n",
        " \n",
        "validation_generator = test_datagen.flow_from_directory(\n",
        "        dataset, \n",
        "        target_size=(150, 150), # mengubah resolusi seluruh gambar menjadi 150x150 piksel\n",
        "        subset='validation',\n",
        "        batch_size =48,\n",
        "        shuffle = True,\n",
        "        class_mode='categorical')"
      ],
      "metadata": {
        "colab": {
          "base_uri": "https://localhost:8080/"
        },
        "id": "TSs4-NfiASOl",
        "outputId": "e25f3c11-d0ee-4861-d1fb-1be3ea2b8e35"
      },
      "execution_count": 21,
      "outputs": [
        {
          "output_type": "stream",
          "name": "stdout",
          "text": [
            "Found 20000 images belonging to 4 classes.\n",
            "Found 5000 images belonging to 4 classes.\n"
          ]
        }
      ]
    },
    {
      "cell_type": "code",
      "source": [
        "model = tf.keras.models.Sequential([                                              \n",
        "    tf.keras.layers.Conv2D(32, (3,3), activation='relu', input_shape=(150, 150, 3)), \n",
        "    tf.keras.layers.MaxPooling2D(2, 2),\n",
        "    tf.keras.layers.Conv2D(64, (3,3), activation='relu'),                        \n",
        "    tf.keras.layers.MaxPooling2D(2,2), \n",
        "    tf.keras.layers.Conv2D(64, (3,3), activation='relu'),                         \n",
        "    tf.keras.layers.MaxPooling2D(2,2),\n",
        "    tf.keras.layers.Flatten(),                                                    \n",
        "    tf.keras.layers.Dropout(0.5), # menggunakan Dropout Regularization\n",
        "    tf.keras.layers.Dense(128, activation='relu'),                                \n",
        "    tf.keras.layers.Dense(512, activation='relu'),                                \n",
        "    tf.keras.layers.Dense(4, activation='softmax')                        \n",
        "])\n",
        "\n",
        "model.summary()  "
      ],
      "metadata": {
        "colab": {
          "base_uri": "https://localhost:8080/"
        },
        "id": "65UjgV2SBDJm",
        "outputId": "1cf5f529-6e40-4180-9a29-276beda7c28e"
      },
      "execution_count": 22,
      "outputs": [
        {
          "output_type": "stream",
          "name": "stdout",
          "text": [
            "Model: \"sequential_3\"\n",
            "_________________________________________________________________\n",
            " Layer (type)                Output Shape              Param #   \n",
            "=================================================================\n",
            " conv2d_9 (Conv2D)           (None, 148, 148, 32)      896       \n",
            "                                                                 \n",
            " max_pooling2d_9 (MaxPooling  (None, 74, 74, 32)       0         \n",
            " 2D)                                                             \n",
            "                                                                 \n",
            " conv2d_10 (Conv2D)          (None, 72, 72, 64)        18496     \n",
            "                                                                 \n",
            " max_pooling2d_10 (MaxPoolin  (None, 36, 36, 64)       0         \n",
            " g2D)                                                            \n",
            "                                                                 \n",
            " conv2d_11 (Conv2D)          (None, 34, 34, 64)        36928     \n",
            "                                                                 \n",
            " max_pooling2d_11 (MaxPoolin  (None, 17, 17, 64)       0         \n",
            " g2D)                                                            \n",
            "                                                                 \n",
            " flatten_3 (Flatten)         (None, 18496)             0         \n",
            "                                                                 \n",
            " dropout_3 (Dropout)         (None, 18496)             0         \n",
            "                                                                 \n",
            " dense_9 (Dense)             (None, 128)               2367616   \n",
            "                                                                 \n",
            " dense_10 (Dense)            (None, 512)               66048     \n",
            "                                                                 \n",
            " dense_11 (Dense)            (None, 4)                 2052      \n",
            "                                                                 \n",
            "=================================================================\n",
            "Total params: 2,492,036\n",
            "Trainable params: 2,492,036\n",
            "Non-trainable params: 0\n",
            "_________________________________________________________________\n"
          ]
        }
      ]
    },
    {
      "cell_type": "code",
      "source": [
        "model.compile(loss='categorical_crossentropy',\n",
        "              optimizer='adam',\n",
        "              metrics=['accuracy'])"
      ],
      "metadata": {
        "id": "meHmh7eHBGQW"
      },
      "execution_count": 23,
      "outputs": []
    },
    {
      "cell_type": "code",
      "source": [
        "from keras.callbacks import LearningRateScheduler\n",
        "# menghentikan fit model ketika akurasi = 97\n",
        "\n",
        "class callback(tf.keras.callbacks.Callback):\n",
        "  def on_epoch_end(self, epoch, logs={}):\n",
        "    if(logs.get('accuracy') > 0.92 and logs.get('val_accuracy')>0.92):\n",
        "      print(\"Fit Berhenti Karena Akurasi Melebihi 92%\")\n",
        "      self.model.stop_training = True\n",
        "\n",
        "callbacks = callback()"
      ],
      "metadata": {
        "id": "a4JFdgl3BIie"
      },
      "execution_count": 12,
      "outputs": []
    },
    {
      "cell_type": "code",
      "source": [
        "model_fit = model.fit(\n",
        "      train_generator,\n",
        "      steps_per_epoch=25,\n",
        "      epochs=50,\n",
        "      validation_data=validation_generator,\n",
        "      validation_steps=5,\n",
        "      verbose=2,\n",
        "      callbacks=[callbacks],\n",
        "      )\n",
        "\n",
        "model_fit"
      ],
      "metadata": {
        "colab": {
          "base_uri": "https://localhost:8080/"
        },
        "id": "7uHFss2kBaif",
        "outputId": "c809428f-9565-4764-9849-f9df7e06ea1b"
      },
      "execution_count": 25,
      "outputs": [
        {
          "output_type": "stream",
          "name": "stdout",
          "text": [
            "Epoch 1/50\n",
            "25/25 - 42s - loss: 0.2339 - accuracy: 0.9017 - val_loss: 0.1960 - val_accuracy: 0.9250 - 42s/epoch - 2s/step\n",
            "Epoch 2/50\n",
            "25/25 - 39s - loss: 0.2589 - accuracy: 0.8883 - val_loss: 0.3251 - val_accuracy: 0.8708 - 39s/epoch - 2s/step\n",
            "Epoch 3/50\n",
            "25/25 - 39s - loss: 0.3032 - accuracy: 0.8801 - val_loss: 0.3072 - val_accuracy: 0.8708 - 39s/epoch - 2s/step\n",
            "Epoch 4/50\n",
            "25/25 - 39s - loss: 0.2376 - accuracy: 0.9058 - val_loss: 0.3089 - val_accuracy: 0.8625 - 39s/epoch - 2s/step\n",
            "Epoch 5/50\n",
            "25/25 - 39s - loss: 0.2341 - accuracy: 0.9058 - val_loss: 0.1882 - val_accuracy: 0.9125 - 39s/epoch - 2s/step\n",
            "Epoch 6/50\n",
            "25/25 - 39s - loss: 0.2360 - accuracy: 0.9108 - val_loss: 0.1658 - val_accuracy: 0.9208 - 39s/epoch - 2s/step\n",
            "Epoch 7/50\n",
            "25/25 - 39s - loss: 0.2640 - accuracy: 0.8950 - val_loss: 0.2690 - val_accuracy: 0.9083 - 39s/epoch - 2s/step\n",
            "Epoch 8/50\n",
            "25/25 - 39s - loss: 0.2317 - accuracy: 0.9100 - val_loss: 0.2220 - val_accuracy: 0.9292 - 39s/epoch - 2s/step\n",
            "Epoch 9/50\n",
            "25/25 - 39s - loss: 0.2235 - accuracy: 0.9142 - val_loss: 0.3144 - val_accuracy: 0.8708 - 39s/epoch - 2s/step\n",
            "Epoch 10/50\n",
            "25/25 - 39s - loss: 0.2219 - accuracy: 0.9058 - val_loss: 0.2018 - val_accuracy: 0.9208 - 39s/epoch - 2s/step\n",
            "Epoch 11/50\n",
            "25/25 - 40s - loss: 0.2069 - accuracy: 0.9133 - val_loss: 0.2955 - val_accuracy: 0.8458 - 40s/epoch - 2s/step\n",
            "Epoch 12/50\n",
            "25/25 - 41s - loss: 0.2323 - accuracy: 0.9050 - val_loss: 0.1973 - val_accuracy: 0.9083 - 41s/epoch - 2s/step\n",
            "Epoch 13/50\n",
            "25/25 - 38s - loss: 0.2226 - accuracy: 0.9083 - val_loss: 0.2042 - val_accuracy: 0.9250 - 38s/epoch - 2s/step\n",
            "Epoch 14/50\n",
            "25/25 - 38s - loss: 0.2322 - accuracy: 0.9092 - val_loss: 0.2516 - val_accuracy: 0.9167 - 38s/epoch - 2s/step\n",
            "Epoch 15/50\n",
            "25/25 - 39s - loss: 0.2267 - accuracy: 0.9142 - val_loss: 0.2417 - val_accuracy: 0.8792 - 39s/epoch - 2s/step\n",
            "Epoch 16/50\n",
            "25/25 - 39s - loss: 0.2037 - accuracy: 0.9225 - val_loss: 0.2591 - val_accuracy: 0.8833 - 39s/epoch - 2s/step\n",
            "Epoch 17/50\n",
            "25/25 - 39s - loss: 0.2234 - accuracy: 0.9150 - val_loss: 0.1529 - val_accuracy: 0.9500 - 39s/epoch - 2s/step\n",
            "Epoch 18/50\n",
            "25/25 - 38s - loss: 0.2190 - accuracy: 0.9075 - val_loss: 0.2089 - val_accuracy: 0.9333 - 38s/epoch - 2s/step\n",
            "Epoch 19/50\n",
            "25/25 - 39s - loss: 0.2394 - accuracy: 0.8950 - val_loss: 0.2946 - val_accuracy: 0.8792 - 39s/epoch - 2s/step\n",
            "Epoch 20/50\n",
            "25/25 - 39s - loss: 0.2438 - accuracy: 0.9058 - val_loss: 0.1878 - val_accuracy: 0.9333 - 39s/epoch - 2s/step\n",
            "Epoch 21/50\n",
            "25/25 - 40s - loss: 0.2664 - accuracy: 0.8925 - val_loss: 0.2577 - val_accuracy: 0.8875 - 40s/epoch - 2s/step\n",
            "Epoch 22/50\n",
            "25/25 - 39s - loss: 0.2260 - accuracy: 0.9058 - val_loss: 0.2210 - val_accuracy: 0.9167 - 39s/epoch - 2s/step\n",
            "Epoch 23/50\n",
            "25/25 - 40s - loss: 0.2794 - accuracy: 0.8800 - val_loss: 0.2398 - val_accuracy: 0.8792 - 40s/epoch - 2s/step\n",
            "Epoch 24/50\n",
            "25/25 - 39s - loss: 0.2354 - accuracy: 0.9150 - val_loss: 0.2043 - val_accuracy: 0.9250 - 39s/epoch - 2s/step\n",
            "Epoch 25/50\n",
            "25/25 - 39s - loss: 0.2062 - accuracy: 0.9283 - val_loss: 0.3016 - val_accuracy: 0.8667 - 39s/epoch - 2s/step\n",
            "Epoch 26/50\n",
            "25/25 - 39s - loss: 0.2071 - accuracy: 0.9250 - val_loss: 0.2895 - val_accuracy: 0.8542 - 39s/epoch - 2s/step\n",
            "Epoch 27/50\n",
            "25/25 - 39s - loss: 0.2257 - accuracy: 0.9108 - val_loss: 0.2207 - val_accuracy: 0.9083 - 39s/epoch - 2s/step\n",
            "Epoch 28/50\n",
            "25/25 - 39s - loss: 0.2140 - accuracy: 0.9242 - val_loss: 0.1919 - val_accuracy: 0.9125 - 39s/epoch - 2s/step\n",
            "Epoch 29/50\n",
            "25/25 - 39s - loss: 0.2283 - accuracy: 0.9050 - val_loss: 0.2435 - val_accuracy: 0.8875 - 39s/epoch - 2s/step\n",
            "Epoch 30/50\n",
            "25/25 - 40s - loss: 0.1852 - accuracy: 0.9250 - val_loss: 0.1827 - val_accuracy: 0.9167 - 40s/epoch - 2s/step\n",
            "Epoch 31/50\n",
            "25/25 - 39s - loss: 0.2265 - accuracy: 0.9108 - val_loss: 0.1878 - val_accuracy: 0.9292 - 39s/epoch - 2s/step\n",
            "Epoch 32/50\n",
            "25/25 - 40s - loss: 0.1860 - accuracy: 0.9258 - val_loss: 0.2144 - val_accuracy: 0.9167 - 40s/epoch - 2s/step\n",
            "Epoch 33/50\n",
            "Fit Berhenti Karena Akurasi Melebihi 92%\n",
            "25/25 - 39s - loss: 0.1799 - accuracy: 0.9283 - val_loss: 0.1647 - val_accuracy: 0.9208 - 39s/epoch - 2s/step\n"
          ]
        },
        {
          "output_type": "execute_result",
          "data": {
            "text/plain": [
              "<keras.callbacks.History at 0x7fa0b9425e10>"
            ]
          },
          "metadata": {},
          "execution_count": 25
        }
      ]
    },
    {
      "cell_type": "code",
      "source": [
        "plt.plot(model_fit.history['accuracy'])\n",
        "plt.plot(model_fit.history['val_accuracy'])\n",
        "plt.title('Accuracy')\n",
        "plt.ylabel('accuracy')\n",
        "plt.xlabel('epoch')\n",
        "plt.legend(['train', 'val'], loc='upper left')\n",
        "plt.show()"
      ],
      "metadata": {
        "colab": {
          "base_uri": "https://localhost:8080/",
          "height": 295
        },
        "id": "i7JYYicCI8B_",
        "outputId": "c8cdff84-8f98-4fd3-c0c7-3bfff67ef2a7"
      },
      "execution_count": 29,
      "outputs": [
        {
          "output_type": "display_data",
          "data": {
            "text/plain": [
              "<Figure size 432x288 with 1 Axes>"
            ],
            "image/png": "[encoded data removed]"
          },
          "metadata": {
            "needs_background": "light"
          }
        }
      ]
    },
    {
      "cell_type": "code",
      "source": [
        "plt.plot(model_fit.history['loss'])\n",
        "plt.plot(model_fit.history['val_loss'])\n",
        "plt.title('Loss')\n",
        "plt.ylabel('loss')\n",
        "plt.xlabel('epoch')\n",
        "plt.legend(['train', 'val'], loc='upper left')\n",
        "plt.show()"
      ],
      "metadata": {
        "colab": {
          "base_uri": "https://localhost:8080/",
          "height": 295
        },
        "id": "UWJjlYChI8hM",
        "outputId": "95677675-66ba-475c-97ba-52b54b3d0091"
      },
      "execution_count": 31,
      "outputs": [
        {
          "output_type": "display_data",
          "data": {
            "text/plain": [
              "<Figure size 432x288 with 1 Axes>"
            ],
            "image/png": "[encoded data removed]"
          },
          "metadata": {
            "needs_background": "light"
          }
        }
      ]
    },
    {
      "cell_type": "code",
      "source": [
        "converter = tf.lite.TFLiteConverter.from_keras_model(model)\n",
        "tflite_model = converter.convert()\n",
        "\n",
        "with tf.io.gfile.GFile('model.tflite', 'wb') as f:\n",
        "  f.write(tflite_model)"
      ],
      "metadata": {
        "id": "QWaOoIZ7JRzh"
      },
      "execution_count": 32,
      "outputs": []
    },
    {
      "cell_type": "code",
      "source": [
        "!ls -la | grep 'model'"
      ],
      "metadata": {
        "colab": {
          "base_uri": "https://localhost:8080/"
        },
        "id": "2eNe_5wfJUgB",
        "outputId": "5822fd9b-ac17-4369-b72b-f8f5e9be2481"
      },
      "execution_count": 33,
      "outputs": [
        {
          "output_type": "stream",
          "name": "stdout",
          "text": [
            "-rw-r--r-- 1 root root   9972256 Oct  2 10:02 model.tflite\n"
          ]
        }
      ]
    }
  ]
}